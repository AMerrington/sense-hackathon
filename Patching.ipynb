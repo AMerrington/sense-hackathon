{
  "nbformat": 4,
  "nbformat_minor": 0,
  "metadata": {
    "colab": {
      "name": "Patching.ipynb",
      "provenance": [],
      "authorship_tag": "ABX9TyNObFhnWxIRaA7tTwHskbtl",
      "include_colab_link": true
    },
    "kernelspec": {
      "name": "python3",
      "display_name": "Python 3"
    }
  },
  "cells": [
    {
      "cell_type": "markdown",
      "metadata": {
        "id": "view-in-github",
        "colab_type": "text"
      },
      "source": [
        "<a href=\"https://colab.research.google.com/github/AMerrington/sense-hackathon/blob/jacob/Patching.ipynb\" target=\"_parent\"><img src=\"https://colab.research.google.com/assets/colab-badge.svg\" alt=\"Open In Colab\"/></a>"
      ]
    },
    {
      "cell_type": "code",
      "metadata": {
        "colab": {
          "base_uri": "https://localhost:8080/"
        },
        "id": "--IejKVV0TEX",
        "outputId": "378358d0-30bd-4634-d337-d7b252098e5f"
      },
      "source": [
        "from google.colab import drive\n",
        "drive.mount('/content/drive', force_remount=True)\n",
        "print (\"Done 1\")"
      ],
      "execution_count": 13,
      "outputs": [
        {
          "output_type": "stream",
          "text": [
            "Mounted at /content/drive\n",
            "Done 1\n"
          ],
          "name": "stdout"
        }
      ]
    },
    {
      "cell_type": "code",
      "metadata": {
        "colab": {
          "base_uri": "https://localhost:8080/"
        },
        "id": "cPmGmxuL0Otm",
        "outputId": "f5e5040e-1918-498f-cc3f-d720dd28e81f"
      },
      "source": [
        "import os\n",
        "import numpy as np\n",
        "import xarray as xr\n",
        "!pip install rasterio\n",
        "import rasterio\n",
        "import cv2"
      ],
      "execution_count": 14,
      "outputs": [
        {
          "output_type": "stream",
          "text": [
            "Requirement already satisfied: rasterio in /usr/local/lib/python3.7/dist-packages (1.2.0)\n",
            "Requirement already satisfied: click-plugins in /usr/local/lib/python3.7/dist-packages (from rasterio) (1.1.1)\n",
            "Requirement already satisfied: attrs in /usr/local/lib/python3.7/dist-packages (from rasterio) (20.3.0)\n",
            "Requirement already satisfied: affine in /usr/local/lib/python3.7/dist-packages (from rasterio) (2.3.0)\n",
            "Requirement already satisfied: snuggs>=1.4.1 in /usr/local/lib/python3.7/dist-packages (from rasterio) (1.4.7)\n",
            "Requirement already satisfied: certifi in /usr/local/lib/python3.7/dist-packages (from rasterio) (2020.12.5)\n",
            "Requirement already satisfied: numpy in /usr/local/lib/python3.7/dist-packages (from rasterio) (1.19.5)\n",
            "Requirement already satisfied: cligj>=0.5 in /usr/local/lib/python3.7/dist-packages (from rasterio) (0.7.1)\n",
            "Requirement already satisfied: click<8,>=4.0 in /usr/local/lib/python3.7/dist-packages (from rasterio) (7.1.2)\n",
            "Requirement already satisfied: pyparsing>=2.1.6 in /usr/local/lib/python3.7/dist-packages (from snuggs>=1.4.1->rasterio) (2.4.7)\n"
          ],
          "name": "stdout"
        }
      ]
    },
    {
      "cell_type": "code",
      "metadata": {
        "colab": {
          "base_uri": "https://localhost:8080/"
        },
        "id": "4t5pRhEW0r5w",
        "outputId": "2c8fb812-939f-4407-9113-fdb87b02e8d7"
      },
      "source": [
        "\"\"\"\n",
        "Importing the S1 images\n",
        "\"\"\"\n",
        "\n",
        "#from write_tiff_funcs_DTM import create_geoTrans\n",
        "#from write_tiff_funcs_DTM import check_array_orientation\n",
        "#from write_tiff_funcs_DTM import write_xarray_to_GeoTiff\n",
        "\n",
        "# Setting directories\n",
        "SAMPLING_DIR = \"/content/drive/MyDrive/ATI_Hackathon/Sampling/\"\n",
        "META_DIR = \"/content/drive/MyDrive/ATI_Hackathon/Sampling/\"\n",
        "S1_tiffs= \"/content/drive/MyDrive/ATI_Hackathon/Sentinel_geotiffs/\"\n",
        "idx=0\n",
        "raster=0\n",
        "# Importing S1 tiffs.\n",
        "tiffs = os.listdir(S1_tiffs)\n",
        "print (type(tiffs), tiffs)\n",
        "num_of_files = 0\n",
        "for filename in [tiffs[0]]:\n",
        "    # Opening tiffs as an xarray.\n",
        "    raster= xr.open_rasterio('%s/%s' % (S1_tiffs, filename))\n",
        "    print (f\"Opened tiff file as raster.\")\n",
        "    n_bands= raster.values.shape[0]\n",
        "    \n",
        "    # THIS IS NOT REFLECTANCE but does rescale (normalise bands) from 0 to 1.\n",
        "    #img= exposure.rescale_intensity(raster)\n",
        "    \n",
        "    # apply NaN values to empty cells in multispec image.\n",
        "    for ii in range(n_bands):\n",
        "        raster.values= raster.values.astype('float')\n",
        "        raster.values[raster.values==raster.nodatavals[ii]]= np.nan\n",
        "        #raster= raster.rio.reproject('EPSG:27700') # reprojecting to British National Grid for use in GIS.\n",
        "    \n",
        "    raster= raster.transpose('y','x','band') \n",
        "\n",
        "    # Tiling this S1 tiff.\n",
        "    img_shape = raster.values.shape\n",
        "    print (f\"Image shape: {img_shape}\")\n",
        "\n",
        "    num_tiles= 100\n",
        "    x_size= img_shape[1]/10\n",
        "    y_size= img_shape[0]/10\n",
        "\n",
        "\n",
        "\n",
        "    x_size=200\n",
        "    y_size=200\n",
        "\n",
        "    # xarray\n",
        "    j= (0, 0)\n",
        "    offset = (int(y_size), int(x_size))\n",
        "    #segments= np.zeros(raster.values.shape[0:2])\n",
        "    \n",
        "    x_coords= raster.coords['x'].values\n",
        "    y_coords= raster.coords['y'].values\n",
        "    meta = []\n",
        "    for i in range(1, num_tiles + 1): \n",
        "            for ii in range(1, num_tiles + 1): \n",
        "                try:\n",
        "                    tile = raster.sel(x=slice(x_coords[j[0]], x_coords[offset[1]*i-1]), y=slice(y_coords[j[1]], y_coords[offset[0]*ii-1]))\n",
        "                    # Writing out the tiled tiff\n",
        "                    cv2.imwrite(SAMPLING_DIR + str(idx) + \".png\", tile.values)\n",
        "                    num_of_files += 1\n",
        "\n",
        "                    tile=\"\" # Maybe help with ram?\n",
        "                    meta.append([idx, i, ii])\n",
        "                    # Moving the offset to the next column (row keeps static).\n",
        "                    j= (j[0], offset[1]*ii)\n",
        "                    idx += 1\n",
        "                except IndexError:\n",
        "                    pass#print ('At edge of image')\n",
        "            # Moving to the next row and resetting the column offsets.\n",
        "            j= (offset[0]*i, 0)\n",
        "            print('Tile segmented: '+ str(i*ii) +' of '+ str(num_tiles**2))\n",
        "    raster=\"\" # Maybe help with ram?\n",
        "    np.save(SAMPLING_DIR + f'meta_{x_size}x{y_size}.npy', np.array(meta))\n",
        "    print (f\"Number of files output: {num_of_files}\")"
      ],
      "execution_count": 12,
      "outputs": [
        {
          "output_type": "stream",
          "text": [
            "<class 'list'> ['S1A_EW_GRDM_1SDH_20180116T075430_20180116T075530_020177_0226B9_9FE3_Orb_Cal_Spk_TC_rgb_8bit.tif', 'S1A_EW_GRDM_1SDH_20180312T074605_20180312T074705_020979_02403B_43FE_Orb_Cal_Spk_TC_rgb_8bit.tif', 'S1A_EW_GRDM_1SDH_20180212T180416_20180212T180516_020577_02336E_5855_Orb_Cal_Spk_TC_rgb_8bit.tif', 'S1A_EW_GRDM_1SDH_20180313T181225_20180313T181325_021000_0240E1_8163_Orb_Cal_Spk_TC_rgb_8bit.tif', 'S1A_EW_GRDM_1SDH_20180417T074606_20180417T074706_021504_0250C3_D211_Orb_Cal_Spk_TC_rgb_8bit.tif', 'S1A_EW_GRDM_1SDH_20180513T072951_20180513T073051_021883_025CBD_A70C_Orb_Cal_Spk_TC_rgb_8bit.tif', 'S1A_EW_GRDM_1SDH_20180611T073807_20180611T073907_022306_026A0D_CC44_Orb_Cal_Spk_TC_rgb_8bit.tif', 'S1A_EW_GRDM_1SDH_20180612T180423_20180612T180523_022327_026AB3_AC33_Orb_Cal_Spk_TC_rgb_8bit.tif', 'S1A_EW_GRDM_1SDH_20180717T073809_20180717T073909_022831_0279B9_EBF1_Orb_Cal_Spk_TC_rgb_8bit.tif', 'S1A_EW_GRDM_1SDH_20180813T174720_20180813T174820_023231_028669_AA12_Orb_Cal_Spk_TC_rgb_8bit.tif', 'S1A_EW_GRDM_1SDH_20180910T072958_20180910T073058_023633_029346_8506_Orb_Cal_Spk_TC_rgb_8bit.tif', 'S1A_EW_GRDM_1SDH_20180911T175548_20180911T175652_023654_0293F5_7CA2_Orb_Cal_Spk_TC_rgb_8bit.tif', 'S1A_EW_GRDM_1SDH_20181015T181247_20181015T181347_024150_02A420_168B_Orb_Cal_Spk_TC_rgb_8bit.tif', 'S1A_EW_GRDM_1SDH_20181016T072958_20181016T073058_024158_02A460_DA8F_Orb_Cal_Spk_TC_rgb_8bit.tif', 'S1A_EW_GRDM_1SDH_20181112T075439_20181112T075539_024552_02B1CD_51CA_Orb_Cal_Spk_TC_rgb_8bit.tif', 'S1A_EW_GRDM_1SDH_20181218T075437_20181218T075537_025077_02C472_1DB2_Orb_Cal_Spk_TC_rgb_8bit.tif', 'S1B_EW_GRDM_1SDH_20180115T174643_20180115T174743_009185_010726_6FB4_Orb_Cal_Spk_TC_rgb_8bit.tif', 'S1B_EW_GRDM_1SDH_20180213T175444_20180213T175544_009608_011511_8266_Orb_Cal_Spk_TC_rgb_8bit.tif', 'S1B_EW_GRDM_1SDH_20180416T075337_20180416T075437_010506_013270_ED66_Orb_Cal_Spk_TC_rgb_8bit.tif', 'S1B_EW_GRDM_1SDH_20180515T174633_20180515T174733_010935_01403A_A84D_Orb_Cal_Spk_TC_rgb_8bit.tif', 'S1B_EW_GRDM_1SDH_20180716T074525_20180716T074625_011833_015C73_2686_Orb_Cal_Spk_TC_rgb_8bit.tif', 'S1B_EW_GRDM_1SDH_20180814T075344_20180814T075444_012256_016952_B1DC_Orb_Cal_Spk_TC_rgb_8bit.tif', 'S1B_EW_GRDM_1SDH_20181217T174639_20181217T174739_014085_01A27D_E7EC_Orb_Cal_Spk_TC_rgb_8bit.tif']\n",
            "Opened tiff file as raster.\n",
            "Image shape: (15218, 15564, 3)\n",
            "Tile segmented: 100 of 10000\n",
            "Tile segmented: 200 of 10000\n",
            "Tile segmented: 300 of 10000\n",
            "Tile segmented: 400 of 10000\n",
            "Tile segmented: 500 of 10000\n",
            "Tile segmented: 600 of 10000\n",
            "Tile segmented: 700 of 10000\n",
            "Tile segmented: 800 of 10000\n",
            "Tile segmented: 900 of 10000\n",
            "Tile segmented: 1000 of 10000\n",
            "Tile segmented: 1100 of 10000\n",
            "Tile segmented: 1200 of 10000\n",
            "Tile segmented: 1300 of 10000\n",
            "Tile segmented: 1400 of 10000\n",
            "Tile segmented: 1500 of 10000\n",
            "Tile segmented: 1600 of 10000\n",
            "Tile segmented: 1700 of 10000\n",
            "Tile segmented: 1800 of 10000\n",
            "Tile segmented: 1900 of 10000\n",
            "Tile segmented: 2000 of 10000\n",
            "Tile segmented: 2100 of 10000\n",
            "Tile segmented: 2200 of 10000\n",
            "Tile segmented: 2300 of 10000\n",
            "Tile segmented: 2400 of 10000\n",
            "Tile segmented: 2500 of 10000\n",
            "Tile segmented: 2600 of 10000\n",
            "Tile segmented: 2700 of 10000\n",
            "Tile segmented: 2800 of 10000\n",
            "Tile segmented: 2900 of 10000\n",
            "Tile segmented: 3000 of 10000\n",
            "Tile segmented: 3100 of 10000\n",
            "Tile segmented: 3200 of 10000\n",
            "Tile segmented: 3300 of 10000\n",
            "Tile segmented: 3400 of 10000\n",
            "Tile segmented: 3500 of 10000\n",
            "Tile segmented: 3600 of 10000\n",
            "Tile segmented: 3700 of 10000\n",
            "Tile segmented: 3800 of 10000\n",
            "Tile segmented: 3900 of 10000\n",
            "Tile segmented: 4000 of 10000\n",
            "Tile segmented: 4100 of 10000\n",
            "Tile segmented: 4200 of 10000\n",
            "Tile segmented: 4300 of 10000\n",
            "Tile segmented: 4400 of 10000\n",
            "Tile segmented: 4500 of 10000\n",
            "Tile segmented: 4600 of 10000\n",
            "Tile segmented: 4700 of 10000\n",
            "Tile segmented: 4800 of 10000\n",
            "Tile segmented: 4900 of 10000\n",
            "Tile segmented: 5000 of 10000\n",
            "Tile segmented: 5100 of 10000\n",
            "Tile segmented: 5200 of 10000\n",
            "Tile segmented: 5300 of 10000\n",
            "Tile segmented: 5400 of 10000\n",
            "Tile segmented: 5500 of 10000\n",
            "Tile segmented: 5600 of 10000\n",
            "Tile segmented: 5700 of 10000\n",
            "Tile segmented: 5800 of 10000\n",
            "Tile segmented: 5900 of 10000\n",
            "Tile segmented: 6000 of 10000\n",
            "Tile segmented: 6100 of 10000\n",
            "Tile segmented: 6200 of 10000\n",
            "Tile segmented: 6300 of 10000\n",
            "Tile segmented: 6400 of 10000\n",
            "Tile segmented: 6500 of 10000\n",
            "Tile segmented: 6600 of 10000\n",
            "Tile segmented: 6700 of 10000\n",
            "Tile segmented: 6800 of 10000\n",
            "Tile segmented: 6900 of 10000\n",
            "Tile segmented: 7000 of 10000\n",
            "Tile segmented: 7100 of 10000\n",
            "Tile segmented: 7200 of 10000\n",
            "Tile segmented: 7300 of 10000\n",
            "Tile segmented: 7400 of 10000\n",
            "Tile segmented: 7500 of 10000\n",
            "Tile segmented: 7600 of 10000\n",
            "Tile segmented: 7700 of 10000\n",
            "Tile segmented: 7800 of 10000\n",
            "Tile segmented: 7900 of 10000\n",
            "Tile segmented: 8000 of 10000\n",
            "Tile segmented: 8100 of 10000\n",
            "Tile segmented: 8200 of 10000\n",
            "Tile segmented: 8300 of 10000\n",
            "Tile segmented: 8400 of 10000\n",
            "Tile segmented: 8500 of 10000\n",
            "Tile segmented: 8600 of 10000\n",
            "Tile segmented: 8700 of 10000\n",
            "Tile segmented: 8800 of 10000\n",
            "Tile segmented: 8900 of 10000\n",
            "Tile segmented: 9000 of 10000\n",
            "Tile segmented: 9100 of 10000\n",
            "Tile segmented: 9200 of 10000\n",
            "Tile segmented: 9300 of 10000\n",
            "Tile segmented: 9400 of 10000\n",
            "Tile segmented: 9500 of 10000\n",
            "Tile segmented: 9600 of 10000\n",
            "Tile segmented: 9700 of 10000\n",
            "Tile segmented: 9800 of 10000\n",
            "Tile segmented: 9900 of 10000\n",
            "Tile segmented: 10000 of 10000\n",
            "Number of files output: 5852\n"
          ],
          "name": "stdout"
        }
      ]
    },
    {
      "cell_type": "code",
      "metadata": {
        "id": "dp1kFaBB8hKL"
      },
      "source": [
        ""
      ],
      "execution_count": null,
      "outputs": []
    }
  ]
}