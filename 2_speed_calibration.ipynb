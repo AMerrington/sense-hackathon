{
 "cells": [
  {
   "cell_type": "markdown",
   "id": "racial-charleston",
   "metadata": {},
   "source": [
    "# Agent Speed Calibration"
   ]
  },
  {
   "cell_type": "markdown",
   "id": "detected-artwork",
   "metadata": {},
   "source": [
    "The aim of this notebook is to estimate the value of model parameters pertaining to pedestrian agent speed.\n",
    "These specifically focus on:\n",
    "* `speed_min`, i.e. the minimum speed of the pedestrian agents,\n",
    "* `speed_mean`, i.e. the mean speed of the pedestrian agents,\n",
    "* `speed_std`, i.e. the standard deviation of the speeds of the pedestrian agents."
   ]
  },
  {
   "cell_type": "markdown",
   "id": "incorporated-velvet",
   "metadata": {},
   "source": [
    "This is achieved through some basic analysis of the data pertaining to the paths of the pedestrians "
   ]
  },
  {
   "cell_type": "markdown",
   "id": "binary-scottish",
   "metadata": {},
   "source": [
    "## Imports"
   ]
  },
  {
   "cell_type": "markdown",
   "id": "private-arrangement",
   "metadata": {},
   "source": [
    "First of all, we import the packages that we plan to use of this analysis:"
   ]
  },
  {
   "cell_type": "code",
   "execution_count": 1,
   "id": "visible-bonus",
   "metadata": {},
   "outputs": [],
   "source": [
    "import pandas as pd\n",
    "import numpy as np\n",
    "import matplotlib.pyplot as plt\n",
    "import seaborn as sns\n",
    "from math import sqrt\n",
    "\n",
    "%matplotlib inline"
   ]
  },
  {
   "cell_type": "markdown",
   "id": "complimentary-compression",
   "metadata": {},
   "source": [
    "## Paths and Directories"
   ]
  },
  {
   "cell_type": "markdown",
   "id": "amber-accuracy",
   "metadata": {},
   "source": [
    "Next, we note the relative path to the data that we plan to use:"
   ]
  },
  {
   "cell_type": "code",
   "execution_count": 2,
   "id": "aware-embassy",
   "metadata": {},
   "outputs": [],
   "source": [
    "combined_frames_path = '../data/outputs/combined_frames.csv'"
   ]
  },
  {
   "cell_type": "markdown",
   "id": "weekly-muslim",
   "metadata": {},
   "source": [
    "## Functions"
   ]
  },
  {
   "cell_type": "markdown",
   "id": "hourly-cambridge",
   "metadata": {},
   "source": [
    "Here, I have defined some functions that will be useful later in the analysis:"
   ]
  },
  {
   "cell_type": "code",
   "execution_count": 3,
   "id": "respected-illinois",
   "metadata": {},
   "outputs": [],
   "source": [
    "def get_distance(x0, y0, x1, y1):\n",
    "    x_diff = x1 - x0\n",
    "    y_diff = y1 - y0\n",
    "    return sqrt(x_diff*x_diff + y_diff*y_diff)"
   ]
  },
  {
   "cell_type": "code",
   "execution_count": 4,
   "id": "prostate-theory",
   "metadata": {},
   "outputs": [],
   "source": [
    "def get_speed_profile(x_coordinates, y_coordinates):\n",
    "    assert len(x_coordinates) == len(y_coordinates)\n",
    "    \n",
    "    FRAMES_PER_SECOND = 25\n",
    "    PIXELS_PER_METRE = 14\n",
    "    ratio = FRAMES_PER_SECOND / PIXELS_PER_METRE\n",
    "    \n",
    "    total_distance = get_distance(x_coordinates[0], y_coordinates[0],\n",
    "                                  x_coordinates[-1], y_coordinates[-1])\n",
    "    average_speed = ratio * total_distance / (len(x_coordinates) - 1)\n",
    "        \n",
    "    return average_speed"
   ]
  },
  {
   "cell_type": "markdown",
   "id": "western-difference",
   "metadata": {},
   "source": [
    "## Analysis"
   ]
  },
  {
   "cell_type": "markdown",
   "id": "brutal-vaccine",
   "metadata": {},
   "source": [
    "We start our analysis by reading in the data pertaining to the paths of pedestrians across the concourse:"
   ]
  },
  {
   "cell_type": "code",
   "execution_count": 5,
   "id": "canadian-interference",
   "metadata": {},
   "outputs": [
    {
     "data": {
      "text/html": [
       "<div>\n",
       "<style scoped>\n",
       "    .dataframe tbody tr th:only-of-type {\n",
       "        vertical-align: middle;\n",
       "    }\n",
       "\n",
       "    .dataframe tbody tr th {\n",
       "        vertical-align: top;\n",
       "    }\n",
       "\n",
       "    .dataframe thead th {\n",
       "        text-align: right;\n",
       "    }\n",
       "</style>\n",
       "<table border=\"1\" class=\"dataframe\">\n",
       "  <thead>\n",
       "    <tr style=\"text-align: right;\">\n",
       "      <th></th>\n",
       "      <th>frame</th>\n",
       "      <th>pedestrianID</th>\n",
       "      <th>x</th>\n",
       "      <th>y</th>\n",
       "    </tr>\n",
       "  </thead>\n",
       "  <tbody>\n",
       "    <tr>\n",
       "      <th>0</th>\n",
       "      <td>2708</td>\n",
       "      <td>1</td>\n",
       "      <td>517.738979</td>\n",
       "      <td>310.348028</td>\n",
       "    </tr>\n",
       "    <tr>\n",
       "      <th>1</th>\n",
       "      <td>2708</td>\n",
       "      <td>2</td>\n",
       "      <td>515.247100</td>\n",
       "      <td>302.505800</td>\n",
       "    </tr>\n",
       "    <tr>\n",
       "      <th>2</th>\n",
       "      <td>2708</td>\n",
       "      <td>3</td>\n",
       "      <td>357.187148</td>\n",
       "      <td>153.410673</td>\n",
       "    </tr>\n",
       "    <tr>\n",
       "      <th>3</th>\n",
       "      <td>2708</td>\n",
       "      <td>4</td>\n",
       "      <td>342.423434</td>\n",
       "      <td>110.213457</td>\n",
       "    </tr>\n",
       "    <tr>\n",
       "      <th>4</th>\n",
       "      <td>2708</td>\n",
       "      <td>5</td>\n",
       "      <td>341.559165</td>\n",
       "      <td>92.116009</td>\n",
       "    </tr>\n",
       "  </tbody>\n",
       "</table>\n",
       "</div>"
      ],
      "text/plain": [
       "   frame  pedestrianID           x           y\n",
       "0   2708             1  517.738979  310.348028\n",
       "1   2708             2  515.247100  302.505800\n",
       "2   2708             3  357.187148  153.410673\n",
       "3   2708             4  342.423434  110.213457\n",
       "4   2708             5  341.559165   92.116009"
      ]
     },
     "execution_count": 5,
     "metadata": {},
     "output_type": "execute_result"
    }
   ],
   "source": [
    "frames_data = pd.read_csv(combined_frames_path)\n",
    "frames_data.head()"
   ]
  },
  {
   "cell_type": "markdown",
   "id": "hundred-egypt",
   "metadata": {},
   "source": [
    "Above, we can see that this dataset is made up fo observations pertaining to 4 columns:\n",
    "* `frame`, i.e. the frame in which the observation was captured,\n",
    "* `pedestrianID` i.e. the unique pedestrian that the observation relates to,\n",
    "* `x`, i.e. the $x$-coordinate of the pedestrian within the concourse in the frame,\n",
    "* `y`, i.e. the $y$-coordinate of the pedestrian within the concourse in the frame."
   ]
  },
  {
   "cell_type": "markdown",
   "id": "interior-vienna",
   "metadata": {},
   "source": [
    "The aim of this analysis is to use this data to ascertain values for a collection of speed parameters - namely `speed_min` (the minimum pedestrian agent speed), `speed_mean` (the mean pedestrian agent speed) and `speed_std` (the standard deviation of the pedestrian agent speeds).\n",
    "Additionally, we would like to find out how many unique pedestrians are in our data, as this will inform how many pedestrian agents should be simulated in our model."
   ]
  },
  {
   "cell_type": "markdown",
   "id": "cognitive-denver",
   "metadata": {},
   "source": [
    "Using the `unique()` method, create a list of all of the unique pedestrian IDs in the `frames_data` dataframe called `pedestrian_ids`:"
   ]
  },
  {
   "cell_type": "code",
   "execution_count": 13,
   "id": "angry-perfume",
   "metadata": {},
   "outputs": [],
   "source": [
    "# Insert code here\n",
    "pedestrian_ids = np.unique(frames_data['pedestrianID'])"
   ]
  },
  {
   "cell_type": "markdown",
   "id": "prospective-vaccine",
   "metadata": {},
   "source": [
    "How many unique pedetrian IDs are there?"
   ]
  },
  {
   "cell_type": "code",
   "execution_count": 17,
   "id": "horizontal-municipality",
   "metadata": {},
   "outputs": [
    {
     "name": "stdout",
     "output_type": "stream",
     "text": [
      "274\n"
     ]
    }
   ],
   "source": [
    "# Insert code here\n",
    "n_pedestrians= np.ma.count(pedestrian_ids)\n",
    "print(n_pedestrians)"
   ]
  },
  {
   "cell_type": "markdown",
   "id": "african-heath",
   "metadata": {},
   "source": [
    "Now that we have a list of the unique pedestrian IDs, we can isolate the data pertaining to each of the pedestrians, and create trajectories of each of their journeys across the concourse, with each trajectory consisting of a series of $x$-coordinates and $y$-coordinates."
   ]
  },
  {
   "cell_type": "code",
   "execution_count": 18,
   "id": "celtic-board",
   "metadata": {},
   "outputs": [],
   "source": [
    "pedestrian_trajectories = dict()\n",
    "\n",
    "for pid in pedestrian_ids:\n",
    "    df = frames_data.loc[frames_data['pedestrianID']==pid, :]\n",
    "    df = df.sort_values(by='frame')\n",
    "    d = {'xs': list(df['x']),\n",
    "         'ys': list(df['y'])}\n",
    "    pedestrian_trajectories[pid] = d"
   ]
  },
  {
   "cell_type": "markdown",
   "id": "patent-sandwich",
   "metadata": {},
   "source": [
    "Based on the paths pertaining to each of the pedestrians, we can now create a list of all of their average speeds.\n",
    "In this case, we are calculating the average speed as\n",
    "$$v_i = \\frac{d_i}{t_i} $$\n",
    "where $v_i$ is the average speed of the $i$th pedestrian, $d_i$ is the distance between the entry point and the exit point of the $i$th pedestrian, and $t_i$ is the number of frames between the entry of the $i$th pedestrian and their exit from the system.\n",
    "\n",
    "In short, for each pedestrian we are calculating their speed \"as the crow flies\"."
   ]
  },
  {
   "cell_type": "code",
   "execution_count": 19,
   "id": "ranking-decimal",
   "metadata": {},
   "outputs": [],
   "source": [
    "speeds = list()\n",
    "for trajectory in pedestrian_trajectories.values():\n",
    "    average_speed = get_speed_profile(trajectory['xs'], trajectory['ys'])\n",
    "    speeds.append(average_speed)"
   ]
  },
  {
   "cell_type": "markdown",
   "id": "younger-lingerie",
   "metadata": {},
   "source": [
    "Having calculated speeds for each of the pedestrians, we want to filter out any $0$s - there may be some pedestrians that do not move in our data."
   ]
  },
  {
   "cell_type": "code",
   "execution_count": 20,
   "id": "continuous-madonna",
   "metadata": {},
   "outputs": [],
   "source": [
    "# Make list of average speeds excluding 0s\n",
    "speeds = [speed for speed in speeds if speed != 0]"
   ]
  },
  {
   "cell_type": "markdown",
   "id": "joined-example",
   "metadata": {},
   "source": [
    "Now that we have average speeds for our pedestrians, we are intersted in understanding their ditribution.\n",
    "We can approach this by producing a KDE plot (kernel density estimate):"
   ]
  },
  {
   "cell_type": "code",
   "execution_count": 21,
   "id": "civilian-declaration",
   "metadata": {},
   "outputs": [
    {
     "data": {
      "image/png": "[encoded data removed]",
      "text/plain": [
       "<Figure size 432x288 with 1 Axes>"
      ]
     },
     "metadata": {
      "needs_background": "light"
     },
     "output_type": "display_data"
    }
   ],
   "source": [
    "plt.figure()\n",
    "sns.kdeplot(x=speeds, fill=True)\n",
    "plt.xlabel('Speed')\n",
    "plt.show()"
   ]
  },
  {
   "cell_type": "markdown",
   "id": "racial-conservative",
   "metadata": {},
   "source": [
    "In the literature for pedetrian dynamics, we often observe that pedetrians speeds are normally distributed; we shall assume that that assumption holds for this dataset also.\n",
    "Based on this assumption, we would like to calculate the mean, standard deviation and minimum of the speeds:"
   ]
  },
  {
   "cell_type": "code",
   "execution_count": 26,
   "id": "romantic-beginning",
   "metadata": {},
   "outputs": [
    {
     "name": "stdout",
     "output_type": "stream",
     "text": [
      "1.6026400144010877\n",
      "0.6642343305178546\n",
      "0.31125359137714953\n"
     ]
    }
   ],
   "source": [
    "# Insert code here\n",
    "# In each case, replace None with an expression to calculate the relevant quantity\n",
    "speed_mean = np.average(speeds)\n",
    "print(speed_mean)\n",
    "speed_std = np.std(speeds)\n",
    "print(speed_std)\n",
    "speed_min = np.min(speeds)\n",
    "print(speed_min)"
   ]
  },
  {
   "cell_type": "markdown",
   "id": "attended-rabbit",
   "metadata": {},
   "source": [
    "Finally, we would like to check whether pedestrian speeds sampled from a normal distribution with these attributes is representative of the speeds that we observe in the data.\n",
    "The first step to achieving this is to create some sample speeds by drawing sample speeds from a normal distriubtion:"
   ]
  },
  {
   "cell_type": "code",
   "execution_count": 24,
   "id": "decimal-sleeping",
   "metadata": {},
   "outputs": [],
   "source": [
    "speed_samples = np.random.normal(loc=speed_mean, scale=speed_std, size=1000)"
   ]
  },
  {
   "cell_type": "markdown",
   "id": "outdoor-signature",
   "metadata": {},
   "source": [
    "We can then produce a plot overlaying the distribution of the speeds from the data with a histogram of speeds sampled from a normal distribution based on the parameter values that we have just found:"
   ]
  },
  {
   "cell_type": "code",
   "execution_count": 25,
   "id": "level-arbitration",
   "metadata": {},
   "outputs": [
    {
     "data": {
      "image/png": "[encoded data removed]",
      "text/plain": [
       "<Figure size 432x288 with 1 Axes>"
      ]
     },
     "metadata": {
      "needs_background": "light"
     },
     "output_type": "display_data"
    }
   ],
   "source": [
    "plt.figure()\n",
    "plt.hist(speed_samples, density=True, label='Normal dist samples')\n",
    "sns.kdeplot(speeds, label='Pedestrian data')\n",
    "plt.xlabel('Speed')\n",
    "plt.legend()\n",
    "plt.show()"
   ]
  },
  {
   "cell_type": "markdown",
   "id": "bored-danish",
   "metadata": {},
   "source": [
    "Hopefully we can see that the two datasets match each other in distribution (for the most part).\n",
    "It is worth noting that the distribtion of speeds sampled from the normal distribution will look different for each of us given that we have drawn these values from a random distribution - if you were to compare your version of this figure with one that your neighbour produced, you would find that they looked similar but not exactly the same and this is nothing to be alarmed by."
   ]
  },
  {
   "cell_type": "markdown",
   "id": "reflected-impression",
   "metadata": {},
   "source": [
    "## Closing Remarks"
   ]
  },
  {
   "cell_type": "markdown",
   "id": "floral-preserve",
   "metadata": {},
   "source": [
    "This notebook has contained a brief analysis of some data regarding the motion of pedestrians at Grand Central Station in New York.\n",
    "By working through this notebook, you should have been able to derive values for the speed parameters that we will use for our agent-based model going into the [next notebook](./3_birth_rate_calibration.ipynb), i.e.:\n",
    "* `speed_mean`\n",
    "* `speed_std`\n",
    "* `speed_min`\n",
    "\n",
    "You should have also found the number of unique pedestrians, which will also be needed when running the model."
   ]
  },
  {
   "cell_type": "markdown",
   "id": "beneficial-flashing",
   "metadata": {},
   "source": [
    "You may wish to experiment further with this data.\n",
    "This could include exploring different ways to calculate the speed of the pedestrians (such as considering their instantaneous speed instead of their average speed), producing other types of visualisations, or producing animations of how the pedestrians move in around the concourse.\n",
    "\n",
    "Otherwise, let's move on to the final notebook, where we will make use of the information that we have found here to run the model and calibrate the rate at which pedestrians enter the system."
   ]
  }
 ],
 "metadata": {
  "kernelspec": {
   "display_name": "Python 3",
   "language": "python",
   "name": "python3"
  },
  "language_info": {
   "codemirror_mode": {
    "name": "ipython",
    "version": 3
   },
   "file_extension": ".py",
   "mimetype": "text/x-python",
   "name": "python",
   "nbconvert_exporter": "python",
   "pygments_lexer": "ipython3",
   "version": "3.9.1"
  }
 },
 "nbformat": 4,
 "nbformat_minor": 5
}
